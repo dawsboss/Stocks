{
 "cells": [
  {
   "cell_type": "code",
   "execution_count": 113,
   "id": "d470abc3",
   "metadata": {},
   "outputs": [],
   "source": [
    "import pandas as pd\n",
    "import numpy as np\n",
    "import seaborn as sns\n",
    "sns.set()\n",
    "import matplotlib.pyplot as plt\n",
    "from datetime import datetime, timedelta\n",
    "import robin_stocks.robinhood as r"
   ]
  },
  {
   "cell_type": "markdown",
   "id": "dfb2918a",
   "metadata": {},
   "source": [
    "### Important Links:\n",
    "https://robin-stocks.readthedocs.io/en/latest/robinhood.html\n",
    "\n",
    "https://github.com/jmfernandes/robin_stocks/blob/master/Robinhood.rst"
   ]
  },
  {
   "cell_type": "code",
   "execution_count": 114,
   "id": "f00fdbc2",
   "metadata": {},
   "outputs": [],
   "source": [
    "class Stocks:\n",
    "    def __init__(self, u=\"\", p=\"\", mfa=\"\"):\n",
    "        self.username = u\n",
    "        self.password = p\n",
    "        self.mfa = mfa\n",
    "        self.login = r.login(username, password, mfa_code=MFA)\n",
    "        self.update_stats()\n",
    "    \n",
    "    \n",
    "    def update_stats(self):\n",
    "        self.positions = r.get_open_stock_positions()\n",
    "        self.tickers = [r.get_symbol_by_url(item[\"instrument\"]) for item in self.positions]\n",
    "        self.tickerInfo =  r.get_quotes(tickers)\n",
    "        self.quantities = [float(item[\"quantity\"]) for item in self.positions]\n",
    "        self.prevClose = r.get_quotes(tickers, \"previous_close\")\n",
    "        self.lastPrice = r.get_quotes(tickers, \"last_trade_price\")\n",
    "        self.lastExtPrice = r.get_quotes(tickers, \"last_trade_price\")\n",
    "        self.boughtAt = [float(item[\"average_buy_price\"]) for item in self.positions]\n",
    "        self.bidPrice = [float(item[\"bid_price\"]) for item in self.tickerInfo]\n",
    "        self.askPrice = [float(item[\"ask_price\"]) for item in self.tickerInfo]\n",
    "        \n",
    "        self.update_daily_stats()\n",
    "        self.update_total_stats()\n",
    "\n",
    "\n",
    "        \n",
    "    def update_daily_stats(self):\n",
    "        #Daily calculations\n",
    "        self.dailyProfitPerShare = [float(self.lastPrice[i]) - float(self.prevClose[i]) for i in range(len(self.tickers))]\n",
    "        self.dailyPercentChange = [ 100.0 * self.dailyProfitPerShare[i] / float(self.prevClose[i]) for i in range(len(self.tickers)) ]\n",
    "        self.dailyProfit = [self.dailyProfitPerShare[i] * self.quantities[i] for i in range(len(self.tickers))]\n",
    "    \n",
    "    def update_total_stats(self):\n",
    "        self.totalProfitPerShare = [float(self.lastPrice[i]) - float(self.boughtAt[i]) for i in range(len(tickers))]\n",
    "        self.totalPercentChange = [ 100.0 * self.totalProfitPerShare[i] / float(self.boughtAt[i]) for i in range(len(self.tickers)) ]\n",
    "        self.totalProfit = [self.totalProfitPerShare[i] * self.quantities[i] for i in range(len(self.tickers))]\n",
    "\n",
    "        \n",
    "    def printDailyInfo(self):\n",
    "        self.dailyTickersPerf = list(zip(self.dailyProfit, self.dailyPercentChange, self.tickers))\n",
    "        self.dailyTickersPerf.sort(reverse=True)\n",
    "        print (\"My Positions Performance:\")\n",
    "        print (\"Ticker | DailyGain | PercentChange\")\n",
    "        for item in self.dailyTickersPerf:\n",
    "          print (\"%s %f$ %f%%\" % (item[2], item[0], item[1]))\n",
    "\n",
    "        print (\"Net Gain:\", sum(self.dailyProfit))\n",
    "    \n",
    "    def printTotalInfo(self):\n",
    "        self.totalTickersPerf = list(zip(self.totalProfit, self.totalPercentChange, self.tickers))\n",
    "        self.totalTickersPerf.sort(reverse=True)\n",
    "        print (\"My Positions Performance:\")\n",
    "        print (\"Ticker | DailyGain | PercentChange\")\n",
    "        for item in self.totalTickersPerf:\n",
    "          print (\"%s %f$ %f%%\" % (item[2], item[0], item[1]))\n",
    "\n",
    "        print (\"Net Gain:\", sum(self.totalProfit))    \n",
    "        \n",
    "        \n",
    "    \n",
    "    def logout(self):\n",
    "        r.logout()"
   ]
  },
  {
   "cell_type": "code",
   "execution_count": 115,
   "id": "7e74916b",
   "metadata": {},
   "outputs": [],
   "source": [
    "#Pull user name in form .env\n",
    "# import * from credentials.env\n",
    "import os\n",
    "from dotenv import load_dotenv\n",
    "import pyotp\n",
    "\n",
    "load_dotenv()\n",
    "\n",
    "code = os.getenv('MFA')\n",
    "\n",
    "MFA = pyotp.TOTP(code).now()\n",
    "username = os.getenv('USERNAME')\n",
    "password = os.getenv('PASSWORD')"
   ]
  },
  {
   "cell_type": "code",
   "execution_count": 116,
   "id": "9b7c785e",
   "metadata": {},
   "outputs": [],
   "source": [
    "a = Stocks(username, password, MFA)"
   ]
  },
  {
   "cell_type": "code",
   "execution_count": 117,
   "id": "adb50243",
   "metadata": {},
   "outputs": [],
   "source": [
    "#a.printDailyInfo()"
   ]
  },
  {
   "cell_type": "code",
   "execution_count": 118,
   "id": "23be0df7",
   "metadata": {},
   "outputs": [],
   "source": [
    "#a.printTotalInfo()"
   ]
  },
  {
   "cell_type": "code",
   "execution_count": 119,
   "id": "fb1eed7d",
   "metadata": {},
   "outputs": [],
   "source": [
    "a.logout()"
   ]
  },
  {
   "cell_type": "code",
   "execution_count": null,
   "id": "7d743e1f",
   "metadata": {},
   "outputs": [],
   "source": []
  }
 ],
 "metadata": {
  "kernelspec": {
   "display_name": "Python 3 (ipykernel)",
   "language": "python",
   "name": "python3"
  },
  "language_info": {
   "codemirror_mode": {
    "name": "ipython",
    "version": 3
   },
   "file_extension": ".py",
   "mimetype": "text/x-python",
   "name": "python",
   "nbconvert_exporter": "python",
   "pygments_lexer": "ipython3",
   "version": "3.9.7"
  }
 },
 "nbformat": 4,
 "nbformat_minor": 5
}
